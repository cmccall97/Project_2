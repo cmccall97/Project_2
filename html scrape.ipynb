{
 "cells": [
  {
   "cell_type": "code",
   "execution_count": 39,
   "metadata": {},
   "outputs": [],
   "source": [
    "import requests\n",
    "from bs4 import BeautifulSoup\n",
    "import pandas as pd"
   ]
  },
  {
   "cell_type": "code",
   "execution_count": null,
   "metadata": {},
   "outputs": [],
   "source": [
    "#scraping webpage using bs4 to compile total streaming numbers for our playlist created\n",
    "#from using API calls, bc Spotify doesn't have that data public for some reason"
   ]
  },
  {
   "cell_type": "code",
   "execution_count": 40,
   "metadata": {},
   "outputs": [],
   "source": [
    "url = 'https://kworb.net/spotify/songs.html#:~:text=Spotify%20most%20streamed%20songs%20of%20all%20time.%20A%20website%20that'"
   ]
  },
  {
   "cell_type": "code",
   "execution_count": 41,
   "metadata": {},
   "outputs": [],
   "source": [
    "url = 'https://kworb.net/spotify/songs.html#:~:text=Spotify%20most%20streamed%20songs%20of%20all%20time.%20A%20website%20that'  # Replace with your actual URL\n",
    "response = requests.get(url)\n",
    "soup = BeautifulSoup(response.content, 'html.parser')"
   ]
  },
  {
   "cell_type": "code",
   "execution_count": 42,
   "metadata": {},
   "outputs": [],
   "source": [
    "# Find the table\n",
    "table = soup.find('table', class_='addpos sortable')\n",
    "\n",
    "# Find all <tr> elements within the <tbody>\n",
    "rows = table.find('tbody').find_all('tr')\n",
    "\n",
    "# Initialize a list to store the data\n",
    "data = []\n",
    "\n",
    "# Extract content from each <tr>\n",
    "for row in rows:\n",
    "    # Extract text from all <td> elements in the row\n",
    "    columns = row.find_all('td')\n",
    "    row_data = [col.text.strip() for col in columns]\n",
    "    data.append(row_data)\n",
    "\n",
    "# Create a DataFrame\n",
    "total_streams_df = pd.DataFrame(data)\n"
   ]
  },
  {
   "cell_type": "code",
   "execution_count": 43,
   "metadata": {},
   "outputs": [
    {
     "data": {
      "text/html": [
       "<div>\n",
       "<style scoped>\n",
       "    .dataframe tbody tr th:only-of-type {\n",
       "        vertical-align: middle;\n",
       "    }\n",
       "\n",
       "    .dataframe tbody tr th {\n",
       "        vertical-align: top;\n",
       "    }\n",
       "\n",
       "    .dataframe thead th {\n",
       "        text-align: right;\n",
       "    }\n",
       "</style>\n",
       "<table border=\"1\" class=\"dataframe\">\n",
       "  <thead>\n",
       "    <tr style=\"text-align: right;\">\n",
       "      <th></th>\n",
       "      <th>0</th>\n",
       "      <th>1</th>\n",
       "      <th>2</th>\n",
       "    </tr>\n",
       "  </thead>\n",
       "  <tbody>\n",
       "    <tr>\n",
       "      <th>0</th>\n",
       "      <td>The Weeknd - Blinding Lights</td>\n",
       "      <td>4,476,781,794</td>\n",
       "      <td>1,655,141</td>\n",
       "    </tr>\n",
       "    <tr>\n",
       "      <th>1</th>\n",
       "      <td>Ed Sheeran - Shape of You</td>\n",
       "      <td>4,025,659,740</td>\n",
       "      <td>1,042,846</td>\n",
       "    </tr>\n",
       "    <tr>\n",
       "      <th>2</th>\n",
       "      <td>Lewis Capaldi - Someone You Loved</td>\n",
       "      <td>3,600,377,350</td>\n",
       "      <td>1,713,897</td>\n",
       "    </tr>\n",
       "    <tr>\n",
       "      <th>3</th>\n",
       "      <td>Harry Styles - As It Was</td>\n",
       "      <td>3,556,928,930</td>\n",
       "      <td>1,378,383</td>\n",
       "    </tr>\n",
       "    <tr>\n",
       "      <th>4</th>\n",
       "      <td>Post Malone - Sunflower</td>\n",
       "      <td>3,529,967,597</td>\n",
       "      <td>1,375,291</td>\n",
       "    </tr>\n",
       "    <tr>\n",
       "      <th>...</th>\n",
       "      <td>...</td>\n",
       "      <td>...</td>\n",
       "      <td>...</td>\n",
       "    </tr>\n",
       "    <tr>\n",
       "      <th>2495</th>\n",
       "      <td>alt-J - Left Hand Free</td>\n",
       "      <td>508,098,953</td>\n",
       "      <td>305,144</td>\n",
       "    </tr>\n",
       "    <tr>\n",
       "      <th>2496</th>\n",
       "      <td>The Strokes - The Adults Are Talking</td>\n",
       "      <td>507,866,576</td>\n",
       "      <td>465,216</td>\n",
       "    </tr>\n",
       "    <tr>\n",
       "      <th>2497</th>\n",
       "      <td>Jordin Sparks - No Air</td>\n",
       "      <td>507,700,914</td>\n",
       "      <td>239,349</td>\n",
       "    </tr>\n",
       "    <tr>\n",
       "      <th>2498</th>\n",
       "      <td>Baby Bash - Suga Suga</td>\n",
       "      <td>507,597,264</td>\n",
       "      <td>216,907</td>\n",
       "    </tr>\n",
       "    <tr>\n",
       "      <th>2499</th>\n",
       "      <td>Mora - 512</td>\n",
       "      <td>507,568,018</td>\n",
       "      <td>245,872</td>\n",
       "    </tr>\n",
       "  </tbody>\n",
       "</table>\n",
       "<p>2500 rows × 3 columns</p>\n",
       "</div>"
      ],
      "text/plain": [
       "                                         0              1          2\n",
       "0             The Weeknd - Blinding Lights  4,476,781,794  1,655,141\n",
       "1                Ed Sheeran - Shape of You  4,025,659,740  1,042,846\n",
       "2        Lewis Capaldi - Someone You Loved  3,600,377,350  1,713,897\n",
       "3                 Harry Styles - As It Was  3,556,928,930  1,378,383\n",
       "4                  Post Malone - Sunflower  3,529,967,597  1,375,291\n",
       "...                                    ...            ...        ...\n",
       "2495                alt-J - Left Hand Free    508,098,953    305,144\n",
       "2496  The Strokes - The Adults Are Talking    507,866,576    465,216\n",
       "2497                Jordin Sparks - No Air    507,700,914    239,349\n",
       "2498                 Baby Bash - Suga Suga    507,597,264    216,907\n",
       "2499                            Mora - 512    507,568,018    245,872\n",
       "\n",
       "[2500 rows x 3 columns]"
      ]
     },
     "execution_count": 43,
     "metadata": {},
     "output_type": "execute_result"
    }
   ],
   "source": [
    "total_streams_df = pd.DataFrame(data)\n",
    "total_streams_df"
   ]
  },
  {
   "cell_type": "code",
   "execution_count": 44,
   "metadata": {},
   "outputs": [],
   "source": [
    "total_streams_df.to_csv('total_streams_df', index=False)"
   ]
  },
  {
   "cell_type": "code",
   "execution_count": 45,
   "metadata": {},
   "outputs": [],
   "source": [
    "total_streams_df.rename(columns={0: 'zero'}, inplace=True)\n",
    "total_streams_df.rename(columns={1: 'one'}, inplace=True)\n",
    "total_streams_df.rename(columns={2: 'two'}, inplace=True)\n"
   ]
  },
  {
   "cell_type": "code",
   "execution_count": 47,
   "metadata": {},
   "outputs": [],
   "source": [
    "#slicing to 895 to append to cleaned df in other file\n",
    "first_895 = total_streams_df['one'].head(895)"
   ]
  },
  {
   "cell_type": "code",
   "execution_count": 49,
   "metadata": {},
   "outputs": [],
   "source": [
    "first_895.to_csv('first_895.csv', index=False)"
   ]
  }
 ],
 "metadata": {
  "kernelspec": {
   "display_name": "Python 3",
   "language": "python",
   "name": "python3"
  },
  "language_info": {
   "codemirror_mode": {
    "name": "ipython",
    "version": 3
   },
   "file_extension": ".py",
   "mimetype": "text/x-python",
   "name": "python",
   "nbconvert_exporter": "python",
   "pygments_lexer": "ipython3",
   "version": "3.10.14"
  }
 },
 "nbformat": 4,
 "nbformat_minor": 2
}
